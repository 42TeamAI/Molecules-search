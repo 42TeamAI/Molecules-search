{
  "nbformat": 4,
  "nbformat_minor": 0,
  "metadata": {
    "colab": {
      "provenance": []
    },
    "kernelspec": {
      "name": "python3",
      "display_name": "Python 3"
    },
    "language_info": {
      "name": "python"
    }
  },
  "cells": [
    {
      "cell_type": "code",
      "source": [
        "!pip install rdkit\n",
        "!pip install mrl-pypi\n",
        "!pip install catboost\n",
        "\n",
        "!pip uninstall -y rdkit\n",
        "!pip install rdkit"
      ],
      "metadata": {
        "colab": {
          "base_uri": "https://localhost:8080/"
        },
        "id": "eQgw4Q5sf0NT",
        "outputId": "5d3da93a-47ff-4fb2-d5df-48d6610fc00e"
      },
      "execution_count": 1,
      "outputs": [
        {
          "output_type": "stream",
          "name": "stdout",
          "text": [
            "Collecting rdkit\n",
            "  Downloading rdkit-2023.9.5-cp310-cp310-manylinux_2_17_x86_64.manylinux2014_x86_64.whl (34.4 MB)\n",
            "\u001b[2K     \u001b[90m━━━━━━━━━━━━━━━━━━━━━━━━━━━━━━━━━━━━━━━━\u001b[0m \u001b[32m34.4/34.4 MB\u001b[0m \u001b[31m16.1 MB/s\u001b[0m eta \u001b[36m0:00:00\u001b[0m\n",
            "\u001b[?25hRequirement already satisfied: numpy in /usr/local/lib/python3.10/dist-packages (from rdkit) (1.25.2)\n",
            "Requirement already satisfied: Pillow in /usr/local/lib/python3.10/dist-packages (from rdkit) (9.4.0)\n",
            "Installing collected packages: rdkit\n",
            "Successfully installed rdkit-2023.9.5\n",
            "Collecting mrl-pypi\n",
            "  Downloading mrl_pypi-0.1.5-py3-none-any.whl (109 kB)\n",
            "\u001b[2K     \u001b[90m━━━━━━━━━━━━━━━━━━━━━━━━━━━━━━━━━━━━━━━━\u001b[0m \u001b[32m109.9/109.9 kB\u001b[0m \u001b[31m2.8 MB/s\u001b[0m eta \u001b[36m0:00:00\u001b[0m\n",
            "\u001b[?25hRequirement already satisfied: pandas in /usr/local/lib/python3.10/dist-packages (from mrl-pypi) (2.0.3)\n",
            "Requirement already satisfied: numpy in /usr/local/lib/python3.10/dist-packages (from mrl-pypi) (1.25.2)\n",
            "Requirement already satisfied: matplotlib in /usr/local/lib/python3.10/dist-packages (from mrl-pypi) (3.7.1)\n",
            "Requirement already satisfied: scipy in /usr/local/lib/python3.10/dist-packages (from mrl-pypi) (1.11.4)\n",
            "Requirement already satisfied: fastprogress in /usr/local/lib/python3.10/dist-packages (from mrl-pypi) (1.0.3)\n",
            "Collecting selfies>=2.0.0 (from mrl-pypi)\n",
            "  Downloading selfies-2.1.1-py3-none-any.whl (35 kB)\n",
            "Requirement already satisfied: scikit-learn in /usr/local/lib/python3.10/dist-packages (from mrl-pypi) (1.2.2)\n",
            "Requirement already satisfied: networkx in /usr/local/lib/python3.10/dist-packages (from mrl-pypi) (3.3)\n",
            "Requirement already satisfied: requests in /usr/local/lib/python3.10/dist-packages (from mrl-pypi) (2.31.0)\n",
            "Requirement already satisfied: numba in /usr/local/lib/python3.10/dist-packages (from mrl-pypi) (0.58.1)\n",
            "Collecting rdkit-pypi (from mrl-pypi)\n",
            "  Downloading rdkit_pypi-2022.9.5-cp310-cp310-manylinux_2_17_x86_64.manylinux2014_x86_64.whl (29.4 MB)\n",
            "\u001b[2K     \u001b[90m━━━━━━━━━━━━━━━━━━━━━━━━━━━━━━━━━━━━━━━━\u001b[0m \u001b[32m29.4/29.4 MB\u001b[0m \u001b[31m22.4 MB/s\u001b[0m eta \u001b[36m0:00:00\u001b[0m\n",
            "\u001b[?25hRequirement already satisfied: torch>=1.8.0 in /usr/local/lib/python3.10/dist-packages (from mrl-pypi) (2.2.1+cu121)\n",
            "Requirement already satisfied: filelock in /usr/local/lib/python3.10/dist-packages (from torch>=1.8.0->mrl-pypi) (3.13.4)\n",
            "Requirement already satisfied: typing-extensions>=4.8.0 in /usr/local/lib/python3.10/dist-packages (from torch>=1.8.0->mrl-pypi) (4.11.0)\n",
            "Requirement already satisfied: sympy in /usr/local/lib/python3.10/dist-packages (from torch>=1.8.0->mrl-pypi) (1.12)\n",
            "Requirement already satisfied: jinja2 in /usr/local/lib/python3.10/dist-packages (from torch>=1.8.0->mrl-pypi) (3.1.3)\n",
            "Requirement already satisfied: fsspec in /usr/local/lib/python3.10/dist-packages (from torch>=1.8.0->mrl-pypi) (2023.6.0)\n",
            "Collecting nvidia-cuda-nvrtc-cu12==12.1.105 (from torch>=1.8.0->mrl-pypi)\n",
            "  Using cached nvidia_cuda_nvrtc_cu12-12.1.105-py3-none-manylinux1_x86_64.whl (23.7 MB)\n",
            "Collecting nvidia-cuda-runtime-cu12==12.1.105 (from torch>=1.8.0->mrl-pypi)\n",
            "  Using cached nvidia_cuda_runtime_cu12-12.1.105-py3-none-manylinux1_x86_64.whl (823 kB)\n",
            "Collecting nvidia-cuda-cupti-cu12==12.1.105 (from torch>=1.8.0->mrl-pypi)\n",
            "  Using cached nvidia_cuda_cupti_cu12-12.1.105-py3-none-manylinux1_x86_64.whl (14.1 MB)\n",
            "Collecting nvidia-cudnn-cu12==8.9.2.26 (from torch>=1.8.0->mrl-pypi)\n",
            "  Using cached nvidia_cudnn_cu12-8.9.2.26-py3-none-manylinux1_x86_64.whl (731.7 MB)\n",
            "Collecting nvidia-cublas-cu12==12.1.3.1 (from torch>=1.8.0->mrl-pypi)\n",
            "  Using cached nvidia_cublas_cu12-12.1.3.1-py3-none-manylinux1_x86_64.whl (410.6 MB)\n",
            "Collecting nvidia-cufft-cu12==11.0.2.54 (from torch>=1.8.0->mrl-pypi)\n",
            "  Using cached nvidia_cufft_cu12-11.0.2.54-py3-none-manylinux1_x86_64.whl (121.6 MB)\n",
            "Collecting nvidia-curand-cu12==10.3.2.106 (from torch>=1.8.0->mrl-pypi)\n",
            "  Using cached nvidia_curand_cu12-10.3.2.106-py3-none-manylinux1_x86_64.whl (56.5 MB)\n",
            "Collecting nvidia-cusolver-cu12==11.4.5.107 (from torch>=1.8.0->mrl-pypi)\n",
            "  Using cached nvidia_cusolver_cu12-11.4.5.107-py3-none-manylinux1_x86_64.whl (124.2 MB)\n",
            "Collecting nvidia-cusparse-cu12==12.1.0.106 (from torch>=1.8.0->mrl-pypi)\n",
            "  Using cached nvidia_cusparse_cu12-12.1.0.106-py3-none-manylinux1_x86_64.whl (196.0 MB)\n",
            "Collecting nvidia-nccl-cu12==2.19.3 (from torch>=1.8.0->mrl-pypi)\n",
            "  Using cached nvidia_nccl_cu12-2.19.3-py3-none-manylinux1_x86_64.whl (166.0 MB)\n",
            "Collecting nvidia-nvtx-cu12==12.1.105 (from torch>=1.8.0->mrl-pypi)\n",
            "  Using cached nvidia_nvtx_cu12-12.1.105-py3-none-manylinux1_x86_64.whl (99 kB)\n",
            "Requirement already satisfied: triton==2.2.0 in /usr/local/lib/python3.10/dist-packages (from torch>=1.8.0->mrl-pypi) (2.2.0)\n",
            "Collecting nvidia-nvjitlink-cu12 (from nvidia-cusolver-cu12==11.4.5.107->torch>=1.8.0->mrl-pypi)\n",
            "  Using cached nvidia_nvjitlink_cu12-12.4.127-py3-none-manylinux2014_x86_64.whl (21.1 MB)\n",
            "Requirement already satisfied: contourpy>=1.0.1 in /usr/local/lib/python3.10/dist-packages (from matplotlib->mrl-pypi) (1.2.1)\n",
            "Requirement already satisfied: cycler>=0.10 in /usr/local/lib/python3.10/dist-packages (from matplotlib->mrl-pypi) (0.12.1)\n",
            "Requirement already satisfied: fonttools>=4.22.0 in /usr/local/lib/python3.10/dist-packages (from matplotlib->mrl-pypi) (4.51.0)\n",
            "Requirement already satisfied: kiwisolver>=1.0.1 in /usr/local/lib/python3.10/dist-packages (from matplotlib->mrl-pypi) (1.4.5)\n",
            "Requirement already satisfied: packaging>=20.0 in /usr/local/lib/python3.10/dist-packages (from matplotlib->mrl-pypi) (24.0)\n",
            "Requirement already satisfied: pillow>=6.2.0 in /usr/local/lib/python3.10/dist-packages (from matplotlib->mrl-pypi) (9.4.0)\n",
            "Requirement already satisfied: pyparsing>=2.3.1 in /usr/local/lib/python3.10/dist-packages (from matplotlib->mrl-pypi) (3.1.2)\n",
            "Requirement already satisfied: python-dateutil>=2.7 in /usr/local/lib/python3.10/dist-packages (from matplotlib->mrl-pypi) (2.8.2)\n",
            "Requirement already satisfied: llvmlite<0.42,>=0.41.0dev0 in /usr/local/lib/python3.10/dist-packages (from numba->mrl-pypi) (0.41.1)\n",
            "Requirement already satisfied: pytz>=2020.1 in /usr/local/lib/python3.10/dist-packages (from pandas->mrl-pypi) (2023.4)\n",
            "Requirement already satisfied: tzdata>=2022.1 in /usr/local/lib/python3.10/dist-packages (from pandas->mrl-pypi) (2024.1)\n",
            "Requirement already satisfied: charset-normalizer<4,>=2 in /usr/local/lib/python3.10/dist-packages (from requests->mrl-pypi) (3.3.2)\n",
            "Requirement already satisfied: idna<4,>=2.5 in /usr/local/lib/python3.10/dist-packages (from requests->mrl-pypi) (3.7)\n",
            "Requirement already satisfied: urllib3<3,>=1.21.1 in /usr/local/lib/python3.10/dist-packages (from requests->mrl-pypi) (2.0.7)\n",
            "Requirement already satisfied: certifi>=2017.4.17 in /usr/local/lib/python3.10/dist-packages (from requests->mrl-pypi) (2024.2.2)\n",
            "Requirement already satisfied: joblib>=1.1.1 in /usr/local/lib/python3.10/dist-packages (from scikit-learn->mrl-pypi) (1.4.0)\n",
            "Requirement already satisfied: threadpoolctl>=2.0.0 in /usr/local/lib/python3.10/dist-packages (from scikit-learn->mrl-pypi) (3.4.0)\n",
            "Requirement already satisfied: six>=1.5 in /usr/local/lib/python3.10/dist-packages (from python-dateutil>=2.7->matplotlib->mrl-pypi) (1.16.0)\n",
            "Requirement already satisfied: MarkupSafe>=2.0 in /usr/local/lib/python3.10/dist-packages (from jinja2->torch>=1.8.0->mrl-pypi) (2.1.5)\n",
            "Requirement already satisfied: mpmath>=0.19 in /usr/local/lib/python3.10/dist-packages (from sympy->torch>=1.8.0->mrl-pypi) (1.3.0)\n",
            "Installing collected packages: selfies, rdkit-pypi, nvidia-nvtx-cu12, nvidia-nvjitlink-cu12, nvidia-nccl-cu12, nvidia-curand-cu12, nvidia-cufft-cu12, nvidia-cuda-runtime-cu12, nvidia-cuda-nvrtc-cu12, nvidia-cuda-cupti-cu12, nvidia-cublas-cu12, nvidia-cusparse-cu12, nvidia-cudnn-cu12, nvidia-cusolver-cu12, mrl-pypi\n",
            "Successfully installed mrl-pypi-0.1.5 nvidia-cublas-cu12-12.1.3.1 nvidia-cuda-cupti-cu12-12.1.105 nvidia-cuda-nvrtc-cu12-12.1.105 nvidia-cuda-runtime-cu12-12.1.105 nvidia-cudnn-cu12-8.9.2.26 nvidia-cufft-cu12-11.0.2.54 nvidia-curand-cu12-10.3.2.106 nvidia-cusolver-cu12-11.4.5.107 nvidia-cusparse-cu12-12.1.0.106 nvidia-nccl-cu12-2.19.3 nvidia-nvjitlink-cu12-12.4.127 nvidia-nvtx-cu12-12.1.105 rdkit-pypi-2022.9.5 selfies-2.1.1\n",
            "Collecting catboost\n",
            "  Downloading catboost-1.2.5-cp310-cp310-manylinux2014_x86_64.whl (98.2 MB)\n",
            "\u001b[2K     \u001b[90m━━━━━━━━━━━━━━━━━━━━━━━━━━━━━━━━━━━━━━━━\u001b[0m \u001b[32m98.2/98.2 MB\u001b[0m \u001b[31m7.9 MB/s\u001b[0m eta \u001b[36m0:00:00\u001b[0m\n",
            "\u001b[?25hRequirement already satisfied: graphviz in /usr/local/lib/python3.10/dist-packages (from catboost) (0.20.3)\n",
            "Requirement already satisfied: matplotlib in /usr/local/lib/python3.10/dist-packages (from catboost) (3.7.1)\n",
            "Requirement already satisfied: numpy>=1.16.0 in /usr/local/lib/python3.10/dist-packages (from catboost) (1.25.2)\n",
            "Requirement already satisfied: pandas>=0.24 in /usr/local/lib/python3.10/dist-packages (from catboost) (2.0.3)\n",
            "Requirement already satisfied: scipy in /usr/local/lib/python3.10/dist-packages (from catboost) (1.11.4)\n",
            "Requirement already satisfied: plotly in /usr/local/lib/python3.10/dist-packages (from catboost) (5.15.0)\n",
            "Requirement already satisfied: six in /usr/local/lib/python3.10/dist-packages (from catboost) (1.16.0)\n",
            "Requirement already satisfied: python-dateutil>=2.8.2 in /usr/local/lib/python3.10/dist-packages (from pandas>=0.24->catboost) (2.8.2)\n",
            "Requirement already satisfied: pytz>=2020.1 in /usr/local/lib/python3.10/dist-packages (from pandas>=0.24->catboost) (2023.4)\n",
            "Requirement already satisfied: tzdata>=2022.1 in /usr/local/lib/python3.10/dist-packages (from pandas>=0.24->catboost) (2024.1)\n",
            "Requirement already satisfied: contourpy>=1.0.1 in /usr/local/lib/python3.10/dist-packages (from matplotlib->catboost) (1.2.1)\n",
            "Requirement already satisfied: cycler>=0.10 in /usr/local/lib/python3.10/dist-packages (from matplotlib->catboost) (0.12.1)\n",
            "Requirement already satisfied: fonttools>=4.22.0 in /usr/local/lib/python3.10/dist-packages (from matplotlib->catboost) (4.51.0)\n",
            "Requirement already satisfied: kiwisolver>=1.0.1 in /usr/local/lib/python3.10/dist-packages (from matplotlib->catboost) (1.4.5)\n",
            "Requirement already satisfied: packaging>=20.0 in /usr/local/lib/python3.10/dist-packages (from matplotlib->catboost) (24.0)\n",
            "Requirement already satisfied: pillow>=6.2.0 in /usr/local/lib/python3.10/dist-packages (from matplotlib->catboost) (9.4.0)\n",
            "Requirement already satisfied: pyparsing>=2.3.1 in /usr/local/lib/python3.10/dist-packages (from matplotlib->catboost) (3.1.2)\n",
            "Requirement already satisfied: tenacity>=6.2.0 in /usr/local/lib/python3.10/dist-packages (from plotly->catboost) (8.2.3)\n",
            "Installing collected packages: catboost\n",
            "Successfully installed catboost-1.2.5\n",
            "Found existing installation: rdkit 2023.9.5\n",
            "Uninstalling rdkit-2023.9.5:\n",
            "  Successfully uninstalled rdkit-2023.9.5\n",
            "Collecting rdkit\n",
            "  Using cached rdkit-2023.9.5-cp310-cp310-manylinux_2_17_x86_64.manylinux2014_x86_64.whl (34.4 MB)\n",
            "Requirement already satisfied: numpy in /usr/local/lib/python3.10/dist-packages (from rdkit) (1.25.2)\n",
            "Requirement already satisfied: Pillow in /usr/local/lib/python3.10/dist-packages (from rdkit) (9.4.0)\n",
            "Installing collected packages: rdkit\n",
            "Successfully installed rdkit-2023.9.5\n"
          ]
        }
      ]
    },
    {
      "cell_type": "code",
      "source": [
        "from rdkit.Chem import Descriptors\n",
        "from catboost import CatBoostRegressor\n",
        "from rdkit.Chem.rdFingerprintGenerator import GetRDKitFPGenerator\n",
        "from rdkit.DataStructs import TanimotoSimilarity\n",
        "from rdkit import Chem\n",
        "from rdkit.Chem.Scaffolds import MurckoScaffold\n",
        "from rdkit.Contrib.SA_Score import sascorer\n",
        "\n",
        "from mrl.combichem import *\n",
        "from mrl.imports import *\n",
        "from mrl.core import *\n",
        "from mrl.chem import *\n",
        "from mrl.templates.all import *\n",
        "from mrl.torch_imports import *\n",
        "from mrl.torch_core import *\n",
        "from mrl.layers import *\n",
        "from mrl.dataloaders import *\n",
        "from mrl.g_models.all import *\n",
        "from mrl.vocab import *\n",
        "from mrl.policy_gradient import *\n",
        "from mrl.train.all import *\n",
        "from mrl.model_zoo import *\n",
        "\n",
        "import pandas as pd\n",
        "import numpy as np"
      ],
      "metadata": {
        "id": "7AHztOWwf6d3"
      },
      "execution_count": null,
      "outputs": []
    },
    {
      "cell_type": "markdown",
      "source": [
        "## Фильтры"
      ],
      "metadata": {
        "id": "w9A69HzigC-7"
      }
    },
    {
      "cell_type": "code",
      "execution_count": 3,
      "metadata": {
        "id": "dgQ8WszDcWKi"
      },
      "outputs": [],
      "source": [
        "class NumAtomFilter():\n",
        "\n",
        "    def __init__(self, atoms=['O', 'N', 'P', 'S'], n=12):\n",
        "        self.atoms = atoms\n",
        "        self.n = n\n",
        "        self.name = \"NumAtomFilter\"\n",
        "\n",
        "    def __call__(self, mols, with_score=False):\n",
        "        return maybe_parallel(self.check, to_mols(mols))\n",
        "\n",
        "    def check(self, mol):\n",
        "        d = defaultdict(lambda : 0)\n",
        "        for atom in mol.GetAtoms():\n",
        "            d[atom.GetAtomicNum()] += 1\n",
        "\n",
        "        for key in d.keys():\n",
        "            if key not in [6, 1, 8, 7, 15, 16]:\n",
        "                return False\n",
        "\n",
        "        if len(set(d.keys())) < 2:\n",
        "\n",
        "            return False\n",
        "\n",
        "        if d[8] + d[7] + d[15] + d[16] > 12:\n",
        "\n",
        "            return False\n",
        "\n",
        "        return True\n",
        "\n",
        "\n",
        "class HeavyAtomFilter():\n",
        "\n",
        "    def __init__(self, n=500):\n",
        "        self.n = n\n",
        "        self.name = 'wt'\n",
        "\n",
        "    def __call__(self, mols, with_score=False):\n",
        "         return maybe_parallel(self.check, to_mols(mols))\n",
        "\n",
        "    def check(self, mol):\n",
        "        if Descriptors.HeavyAtomMolWt(mol) > self.n:\n",
        "            return False\n",
        "\n",
        "        return True\n",
        "\n",
        "\n",
        "class SorcerFilter():\n",
        "\n",
        "    def __init__(self, n=5):\n",
        "        self.n = n\n",
        "        self.name = 'sas'\n",
        "\n",
        "    def __call__(self, mols, with_score=False):\n",
        "        return maybe_parallel(self.check, to_mols(mols))\n",
        "\n",
        "\n",
        "    def check(self, mol):\n",
        "        if sascorer.calculateScore(mol) >= self.n:\n",
        "            return False\n",
        "\n",
        "        return True\n",
        "\n",
        "class CatBoostFilter():\n",
        "\n",
        "    def __init__(self, model_path):\n",
        "        self.model = CatBoostRegressor()\n",
        "        self.model.load_model(model_path)\n",
        "        self.name = 'cb'\n",
        "        self.descriptions = []\n",
        "        for desc in Descriptors._descList:\n",
        "            self.descriptions.append(desc[1])\n",
        "        self.mols = []\n",
        "\n",
        "    def __call__(self, mols, with_score=False):\n",
        "        data = self.prepare(mols)\n",
        "        res = self.model.predict(data)\n",
        "        return res.tolist()\n",
        "\n",
        "    def f(self, x):\n",
        "        return maybe_parallel(x, self.mols)\n",
        "\n",
        "    def prepare(self, mols):\n",
        "        self.mols = to_mols(mols)\n",
        "        data = maybe_parallel(self.f, self.descriptions)\n",
        "        data = np.stack(data)\n",
        "        return data.T\n",
        "\n",
        "class SumTanimotoSimilarityPenalty():\n",
        "\n",
        "    def __init__(self):\n",
        "        self.fpgen = GetRDKitFPGenerator()\n",
        "        self.mols = []\n",
        "        self.name = \"SumTanimotoSimilarityPenalty\"\n",
        "\n",
        "    def __call__(self, mols, with_score=False):\n",
        "        mols = to_mols(mols)\n",
        "        self.mols = maybe_parallel(self.fpgen.GetFingerprint, mols)\n",
        "\n",
        "        if not isinstance(mols, list):\n",
        "            return 0\n",
        "\n",
        "        res = maybe_parallel(self.check, self.mols)\n",
        "        return res\n",
        "\n",
        "    def check(self, mol):\n",
        "        if (mol is None):\n",
        "            return -10\n",
        "        a = []\n",
        "        for mol2 in self.mols:\n",
        "            if (mol2 is None) or mol2 == 0:\n",
        "                a.append(0)\n",
        "            else:\n",
        "                a.append(TanimotoSimilarity(mol, mol2))\n",
        "        return -np.mean(a)"
      ]
    },
    {
      "cell_type": "markdown",
      "source": [
        "## Алгоритм"
      ],
      "metadata": {
        "id": "fPLNRkiVgGN5"
      }
    },
    {
      "cell_type": "markdown",
      "source": [
        "Основная идея: взять каркас молекул с сам хорошим lgK и менять их ответвления местами, получая новые молекулы"
      ],
      "metadata": {
        "id": "07mXLVjfk019"
      }
    },
    {
      "cell_type": "code",
      "source": [
        "df = pd.read_csv(\"start.csv\")"
      ],
      "metadata": {
        "id": "xL2u9BUFjoj-"
      },
      "execution_count": 6,
      "outputs": []
    },
    {
      "cell_type": "code",
      "source": [
        "class PermutationsAlgorithm:\n",
        "\n",
        "    def __init__(self, start_mols):\n",
        "        start_mols = to_mols(start_mols)\n",
        "        radicals = []\n",
        "        bases_change = []\n",
        "        bases = []\n",
        "\n",
        "        for mol in start_mols:\n",
        "            core = MurckoScaffold.GetScaffoldForMol(mol) # получение базы для молекулы\n",
        "            tmp = Chem.AllChem.ReplaceCore(mol, core) # получение ответвлений  от базы\n",
        "\n",
        "            if not(tmp is None):\n",
        "                rad = maybe_parallel(lambda x: x.replace(x[x.find('['):x.find('*]')+2], \"\"), to_smiles(Chem.GetMolFrags(tmp, asMols=True)))\n",
        "                bases_change.append(rad)\n",
        "                bases.append(mol)\n",
        "                radicals += rad\n",
        "\n",
        "        radicals = to_mols(list(set(radicals)))\n",
        "        filtered = []\n",
        "        for i in radicals:\n",
        "            if not(i is None):\n",
        "                filtered.append(i)\n",
        "        self.bases_change = bases_change\n",
        "        self.bases = bases\n",
        "        self.radicals = filtered\n",
        "\n",
        "\n",
        "    def mutate(self, index, k):\n",
        "        result = []\n",
        "        for ch in self.bases_change[index]:\n",
        "            chm = to_mols(ch)\n",
        "            if chm is None:\n",
        "                continue\n",
        "            for _ in range(k):\n",
        "                result.append(Chem.ReplaceSubstructs(self.bases[index], chm, random.choice(self.radicals), replaceAll=True)[0])\n",
        "        return result\n",
        "\n",
        "    def process(self, k):\n",
        "        out = []\n",
        "        for i in range(len(self.bases)):\n",
        "            out += self.mutate(i, k)\n",
        "\n",
        "        filtered = []\n",
        "        for i in out:\n",
        "            if not(i is None):\n",
        "                try:\n",
        "                    Chem.SanitizeMol(i)\n",
        "                except:\n",
        "                    pass\n",
        "                else:\n",
        "                    filtered.append(i)\n",
        "\n",
        "        return filtered"
      ],
      "metadata": {
        "id": "OoE7YlNQf2p8"
      },
      "execution_count": 16,
      "outputs": []
    },
    {
      "cell_type": "code",
      "source": [
        "alg = PermutationsAlgorithm(df['smiles'].tolist())"
      ],
      "metadata": {
        "id": "Eti9jxqqj75O"
      },
      "execution_count": 17,
      "outputs": []
    },
    {
      "cell_type": "code",
      "source": [
        "out = alg.process(10)"
      ],
      "metadata": {
        "id": "bUGRFVeckS7x"
      },
      "execution_count": 18,
      "outputs": []
    },
    {
      "cell_type": "markdown",
      "source": [
        "Данный блокнот не закончен, а алгоритм не полностью проверен на ошибки (на самом деле, его скорее надо полностью переписывать). Выше представлена первая реализация, которая непосредственно использовалась во время соревнования.\n",
        "\n",
        "Выход алгоритма также обрабатывался с помощью функций, представленных в блокноте Isomers.ipynb, а затем ранжировался по lgK"
      ],
      "metadata": {
        "id": "SnZnI5mSldsV"
      }
    },
    {
      "cell_type": "code",
      "source": [],
      "metadata": {
        "id": "1RhcyCW4lrS-"
      },
      "execution_count": null,
      "outputs": []
    }
  ]
}